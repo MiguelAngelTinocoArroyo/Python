{
  "nbformat": 4,
  "nbformat_minor": 0,
  "metadata": {
    "colab": {
      "name": "Problema_2.ipynb",
      "provenance": [],
      "authorship_tag": "ABX9TyPa9nMslPmcDjQNNrEo6vND",
      "include_colab_link": true
    },
    "kernelspec": {
      "name": "python3",
      "display_name": "Python 3"
    },
    "language_info": {
      "name": "python"
    }
  },
  "cells": [
    {
      "cell_type": "markdown",
      "metadata": {
        "id": "view-in-github",
        "colab_type": "text"
      },
      "source": [
        "<a href=\"https://colab.research.google.com/github/MiguelAngelTinocoArroyo/Python/blob/main/Resueltos/Problema_2.ipynb\" target=\"_parent\"><img src=\"https://colab.research.google.com/assets/colab-badge.svg\" alt=\"Open In Colab\"/></a>"
      ]
    },
    {
      "cell_type": "code",
      "execution_count": 2,
      "metadata": {
        "colab": {
          "base_uri": "https://localhost:8080/"
        },
        "id": "HoDZ2teWefZj",
        "outputId": "4c05b81f-da0f-4ecc-8246-d1925b46b526"
      },
      "outputs": [
        {
          "output_type": "stream",
          "name": "stdout",
          "text": [
            "4.333333333333333\n"
          ]
        }
      ],
      "source": [
        "# 2. Escribir una función para que dada una oración, devuelve la \n",
        "# longitud promedio de las palabras. \n",
        "# Nota: recuerde eliminar primero la puntuación.\n",
        "\n",
        "import string\n",
        "\n",
        "oracion = 'hola como estas'\n",
        "\n",
        "def long_promedio_pala(oracion):\n",
        "    cadena = oracion.split()\n",
        "\n",
        "    new_cadena  = []\n",
        "    tam_palabra = []\n",
        "    \n",
        "    for palabra in cadena:\n",
        "        for letra in palabra:\n",
        "            if letra in string.punctuation:\n",
        "                palabra = palabra.replace(letra,'')   \n",
        "        new_cadena.append(palabra)\n",
        "    \n",
        "    for i in range(len(new_cadena)):\n",
        "        tam_palabra.append(len(new_cadena[i]))\n",
        "    \n",
        "    promedio = sum(tam_palabra)/len(tam_palabra)\n",
        "    return promedio\n",
        "\n",
        "print(long_promedio_pala(oracion))"
      ]
    }
  ]
}