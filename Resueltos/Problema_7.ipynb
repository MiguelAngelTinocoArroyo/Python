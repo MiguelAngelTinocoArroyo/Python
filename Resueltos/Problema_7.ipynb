{
  "nbformat": 4,
  "nbformat_minor": 0,
  "metadata": {
    "colab": {
      "name": "Problema_7.ipynb",
      "provenance": [],
      "authorship_tag": "ABX9TyNyDAjC07nVKB5iQFXiBnVe",
      "include_colab_link": true
    },
    "kernelspec": {
      "name": "python3",
      "display_name": "Python 3"
    },
    "language_info": {
      "name": "python"
    }
  },
  "cells": [
    {
      "cell_type": "markdown",
      "metadata": {
        "id": "view-in-github",
        "colab_type": "text"
      },
      "source": [
        "<a href=\"https://colab.research.google.com/github/MiguelAngelTinocoArroyo/Python/blob/main/Resueltos/Problema_7.ipynb\" target=\"_parent\"><img src=\"https://colab.research.google.com/assets/colab-badge.svg\" alt=\"Open In Colab\"/></a>"
      ]
    },
    {
      "cell_type": "code",
      "execution_count": 4,
      "metadata": {
        "colab": {
          "base_uri": "https://localhost:8080/"
        },
        "id": "LqCmYCtlk5Sl",
        "outputId": "635cd90a-492d-4681-867d-0eeb3ba817a9"
      },
      "outputs": [
        {
          "output_type": "stream",
          "name": "stdout",
          "text": [
            "[[1 9 6]\n",
            " [5 4 1]\n",
            " [6 5 4]\n",
            " [0 0 0]]\n"
          ]
        }
      ],
      "source": [
        "# 7. Escribir una función que dada una matriz, escriba una función\n",
        "# para mover todos los ceros al final mientras mantiene el orden \n",
        "# relativo de los elementos distintos de cero.\n",
        "\n",
        "import numpy as np\n",
        "\n",
        "A = np.array([[1,9,0],[6,5,4],[1,6,0],[5,0,4]])\n",
        "\n",
        "def MoverCerosFinalMatriz(A):\n",
        "    lista = []\n",
        "    contador = 0\n",
        "    for i in range(A.shape[0]): \n",
        "        for j in range(A.shape[1]):\n",
        "            if A[i][j] != 0:\n",
        "                lista.append(A[i][j])\n",
        "                \n",
        "    dimen_A = A.shape[0]*A.shape[1]\n",
        "    \n",
        "    while len(lista) < dimen_A:\n",
        "            lista.append(0)\n",
        "           \n",
        "    for i in range(A.shape[0]): \n",
        "        for j in range(A.shape[1]):\n",
        "            A[i][j] = lista[contador] \n",
        "            contador += 1              \n",
        "    return A\n",
        "\n",
        "print(MoverCerosFinalMatriz(A))"
      ]
    }
  ]
}