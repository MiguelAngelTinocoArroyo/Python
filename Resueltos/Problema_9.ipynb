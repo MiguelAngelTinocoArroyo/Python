{
  "nbformat": 4,
  "nbformat_minor": 0,
  "metadata": {
    "colab": {
      "name": "Problema_9.ipynb",
      "provenance": [],
      "authorship_tag": "ABX9TyN/T3UrTX0wk647DuynkMV1",
      "include_colab_link": true
    },
    "kernelspec": {
      "name": "python3",
      "display_name": "Python 3"
    },
    "language_info": {
      "name": "python"
    }
  },
  "cells": [
    {
      "cell_type": "markdown",
      "metadata": {
        "id": "view-in-github",
        "colab_type": "text"
      },
      "source": [
        "<a href=\"https://colab.research.google.com/github/MiguelAngelTinocoArroyo/Python/blob/main/Resueltos/Problema_9.ipynb\" target=\"_parent\"><img src=\"https://colab.research.google.com/assets/colab-badge.svg\" alt=\"Open In Colab\"/></a>"
      ]
    },
    {
      "cell_type": "code",
      "execution_count": 2,
      "metadata": {
        "colab": {
          "base_uri": "https://localhost:8080/"
        },
        "id": "m7yEHCpQlKBW",
        "outputId": "13c9a4ac-ee36-40e7-c059-38b3e03d813c"
      },
      "outputs": [
        {
          "output_type": "stream",
          "name": "stdout",
          "text": [
            "(['hoy'], ['como', 'estas'])\n"
          ]
        }
      ],
      "source": [
        "# 9. Escribir una función que dada dos oraciones, devuelve una matriz\n",
        "# que tiene las palabras que aparecen en una oración y no en la otra \n",
        "# y una matriz con las palabras en común. \n",
        "\n",
        "A = 'como estas hoy'\n",
        "B = 'como estas bien'\n",
        "\n",
        "def pala_simila_no_simila(A,B):\n",
        "    cadena_A = A.split()\n",
        "    cadena_B = B.split()\n",
        "    \n",
        "    lista_A = []\n",
        "    lista_B = []\n",
        "    \n",
        "    for palabra in range(len(cadena_A)):\n",
        "        if cadena_A[palabra] not in B:\n",
        "            lista_A.append(cadena_A[palabra])\n",
        "            \n",
        "    for palabra in range(len(cadena_B)):\n",
        "        if cadena_B[palabra] in cadena_A:\n",
        "            lista_B.append(cadena_B[palabra])\n",
        "        \n",
        "    return (lista_A, lista_B)\n",
        "\n",
        "print(pala_simila_no_simila(A,B))"
      ]
    }
  ]
}