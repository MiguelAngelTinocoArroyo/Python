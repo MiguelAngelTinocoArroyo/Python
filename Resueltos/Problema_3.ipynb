{
  "nbformat": 4,
  "nbformat_minor": 0,
  "metadata": {
    "colab": {
      "name": "Problema_3.ipynb",
      "provenance": [],
      "authorship_tag": "ABX9TyOfxq7E+m8N3ZIwkveLT+a0",
      "include_colab_link": true
    },
    "kernelspec": {
      "name": "python3",
      "display_name": "Python 3"
    },
    "language_info": {
      "name": "python"
    }
  },
  "cells": [
    {
      "cell_type": "markdown",
      "metadata": {
        "id": "view-in-github",
        "colab_type": "text"
      },
      "source": [
        "<a href=\"https://colab.research.google.com/github/MiguelAngelTinocoArroyo/Python/blob/main/Resueltos/Problema_3.ipynb\" target=\"_parent\"><img src=\"https://colab.research.google.com/assets/colab-badge.svg\" alt=\"Open In Colab\"/></a>"
      ]
    },
    {
      "cell_type": "code",
      "execution_count": 14,
      "metadata": {
        "colab": {
          "base_uri": "https://localhost:8080/"
        },
        "id": "BSwdZf6ftlHi",
        "outputId": "a72aeb05-2f48-4bbb-ea67-4049d8cc4ad9"
      },
      "outputs": [
        {
          "output_type": "stream",
          "name": "stdout",
          "text": [
            "10\n"
          ]
        }
      ],
      "source": [
        "# Escribir una función que dados dos enteros no negativos \n",
        "# num1 y num2 representados como cadena, devuelve la suma \n",
        "# de num1 y num2.\n",
        "# No debe usar ninguna biblioteca “BigInteger” incorporada \n",
        "# ni convertir las entradas a enteros directamente.\n",
        "\n",
        "num1 = '7'\n",
        "num2 = '3'\n",
        "\n",
        "def suma_num_cadena(num1, num2):\n",
        "  lista = []\n",
        "  for i in num1:\n",
        "    if i.isdigit():\n",
        "      lista.append(i)\n",
        "\n",
        "  for i in num2:\n",
        "    if i.isdigit():\n",
        "      lista.append(i)\n",
        "\n",
        "  nueva_lista = [int(string) for string in lista]\n",
        "  suma = sum(nueva_lista)\n",
        "\n",
        "  return suma\n",
        "\n",
        "print(suma_num_cadena(num1, num2))"
      ]
    }
  ]
}