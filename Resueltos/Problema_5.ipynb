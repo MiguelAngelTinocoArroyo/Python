{
  "nbformat": 4,
  "nbformat_minor": 0,
  "metadata": {
    "colab": {
      "name": "Problema_5.ipynb",
      "provenance": [],
      "authorship_tag": "ABX9TyOYd+mAcMFLkPJZ09X97A4K",
      "include_colab_link": true
    },
    "kernelspec": {
      "name": "python3",
      "display_name": "Python 3"
    },
    "language_info": {
      "name": "python"
    }
  },
  "cells": [
    {
      "cell_type": "markdown",
      "metadata": {
        "id": "view-in-github",
        "colab_type": "text"
      },
      "source": [
        "<a href=\"https://colab.research.google.com/github/MiguelAngelTinocoArroyo/Python/blob/main/Resueltos/Problema_5.ipynb\" target=\"_parent\"><img src=\"https://colab.research.google.com/assets/colab-badge.svg\" alt=\"Open In Colab\"/></a>"
      ]
    },
    {
      "cell_type": "code",
      "execution_count": 3,
      "metadata": {
        "colab": {
          "base_uri": "https://localhost:8080/"
        },
        "id": "XzeDKWUWkRzf",
        "outputId": "4b5611b5-8275-4add-d663-ee6091a6559b"
      },
      "outputs": [
        {
          "output_type": "stream",
          "name": "stdout",
          "text": [
            "Es palindroma\n"
          ]
        }
      ],
      "source": [
        "# 5. Escribir una función que dada una cadena \"s\" no vacía,\n",
        "# puede eliminar como máximo un carácter. Juzga si puedes \n",
        "# convertirlo en un palíndromo.\n",
        "# La cadena solo contendrá caracteres en minúscula.\n",
        "# Ejemplo: \"radkar\"\n",
        "\n",
        "cadena = 'radkar'\n",
        "eliminar = 'k'\n",
        "\n",
        "def func_eliminar_carac(cadena, eliminar):\n",
        "    for letra in cadena:\n",
        "        if eliminar in cadena:\n",
        "            cadena = cadena.replace(eliminar,'')\n",
        "    \n",
        "    if cadena == ''.join(reversed(cadena)) :\n",
        "        return 'Es palindroma'\n",
        "    else:\n",
        "        return 'No es palindroma'\n",
        "    \n",
        "print(func_eliminar_carac(cadena, eliminar))\n"
      ]
    }
  ]
}