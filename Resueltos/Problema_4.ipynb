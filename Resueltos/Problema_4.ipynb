{
  "nbformat": 4,
  "nbformat_minor": 0,
  "metadata": {
    "colab": {
      "name": "Problema_4.ipynb",
      "provenance": [],
      "authorship_tag": "ABX9TyMj2w+uQrCCMP0jGDRjEc4B",
      "include_colab_link": true
    },
    "kernelspec": {
      "name": "python3",
      "display_name": "Python 3"
    },
    "language_info": {
      "name": "python"
    }
  },
  "cells": [
    {
      "cell_type": "markdown",
      "metadata": {
        "id": "view-in-github",
        "colab_type": "text"
      },
      "source": [
        "<a href=\"https://colab.research.google.com/github/MiguelAngelTinocoArroyo/Python/blob/main/Resueltos/Problema_4.ipynb\" target=\"_parent\"><img src=\"https://colab.research.google.com/assets/colab-badge.svg\" alt=\"Open In Colab\"/></a>"
      ]
    },
    {
      "cell_type": "code",
      "execution_count": 3,
      "metadata": {
        "colab": {
          "base_uri": "https://localhost:8080/"
        },
        "id": "NH6YgAZEigjE",
        "outputId": "81d0effe-83c1-4852-f3a8-236f09c65e08"
      },
      "outputs": [
        {
          "output_type": "stream",
          "name": "stdout",
          "text": [
            "3\n"
          ]
        }
      ],
      "source": [
        "# 4. Escribir una función que dada una cadena, busque el primer carácter\n",
        "# no repetido en ella y devuelva su índice. \n",
        "# Si no existe, devuelve -1. \n",
        "# Nota: todas las cadenas de entrada ya están en minúsculas.\n",
        "\n",
        "cadena = 'iingresar cadena'\n",
        "\n",
        "def func_no_repet(cadena):\n",
        "    conteo = dict()\n",
        "    for letra in cadena:\n",
        "        if letra in conteo:\n",
        "            conteo[letra] = conteo[letra] + 1\n",
        "        else:\n",
        "            conteo[letra] = 1\n",
        "      \n",
        "    for i in conteo.keys():\n",
        "        if conteo[i] == 1:\n",
        "            p = i\n",
        "            break\n",
        "\n",
        "    for i in conteo.values():\n",
        "        if 1 not in conteo.values():\n",
        "            return -1\n",
        "    \n",
        "    for i in range(len(cadena)):\n",
        "        if p == cadena[i]:\n",
        "            k = i\n",
        "            return k\n",
        "\n",
        "print(func_no_repet(cadena))"
      ]
    }
  ]
}