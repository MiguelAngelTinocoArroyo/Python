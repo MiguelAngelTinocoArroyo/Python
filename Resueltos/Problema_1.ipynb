{
  "nbformat": 4,
  "nbformat_minor": 0,
  "metadata": {
    "colab": {
      "name": "Problema 1.ipynb",
      "provenance": [],
      "authorship_tag": "ABX9TyNfv/tBd/Fbp6jzJnqG7DNc",
      "include_colab_link": true
    },
    "kernelspec": {
      "name": "python3",
      "display_name": "Python 3"
    },
    "language_info": {
      "name": "python"
    }
  },
  "cells": [
    {
      "cell_type": "markdown",
      "metadata": {
        "id": "view-in-github",
        "colab_type": "text"
      },
      "source": [
        "<a href=\"https://colab.research.google.com/github/MiguelAngelTinocoArroyo/Python/blob/main/Resueltos/Problema_1.ipynb\" target=\"_parent\"><img src=\"https://colab.research.google.com/assets/colab-badge.svg\" alt=\"Open In Colab\"/></a>"
      ]
    },
    {
      "cell_type": "code",
      "execution_count": 4,
      "metadata": {
        "colab": {
          "base_uri": "https://localhost:8080/"
        },
        "id": "l5cc77vcbvtS",
        "outputId": "e2cd535d-e317-429a-d163-2e1c8091f26a"
      },
      "outputs": [
        {
          "output_type": "stream",
          "name": "stdout",
          "text": [
            "Ingresar número: -1234\n",
            "4321-\n"
          ]
        }
      ],
      "source": [
        "# 1. Escribir una función que dado un número entero,\n",
        "# devuelve el número entero con dígitos invertidos.\n",
        "# Nota: El número entero puede ser positivo o negativo\n",
        "\n",
        "numero = list(input('Ingresar número: '))\n",
        "\n",
        "def invertir_num(numero):\n",
        "    nuevo_num = []\n",
        "    for i in reversed(numero):\n",
        "        nuevo_num.append(i)\n",
        "        \n",
        "    num_invertido = (''.join(nuevo_num))\n",
        "    return num_invertido\n",
        "\n",
        "print(invertir_num(numero))"
      ]
    }
  ]
}