{
  "nbformat": 4,
  "nbformat_minor": 0,
  "metadata": {
    "colab": {
      "name": "Problema_6.ipynb",
      "provenance": [],
      "authorship_tag": "ABX9TyN8cOW8ywbmT/JX9HkgZtha",
      "include_colab_link": true
    },
    "kernelspec": {
      "name": "python3",
      "display_name": "Python 3"
    },
    "language_info": {
      "name": "python"
    }
  },
  "cells": [
    {
      "cell_type": "markdown",
      "metadata": {
        "id": "view-in-github",
        "colab_type": "text"
      },
      "source": [
        "<a href=\"https://colab.research.google.com/github/MiguelAngelTinocoArroyo/Python/blob/main/Resueltos/Problema_6.ipynb\" target=\"_parent\"><img src=\"https://colab.research.google.com/assets/colab-badge.svg\" alt=\"Open In Colab\"/></a>"
      ]
    },
    {
      "cell_type": "code",
      "execution_count": 3,
      "metadata": {
        "colab": {
          "base_uri": "https://localhost:8080/"
        },
        "id": "JX3KnVTsno6u",
        "outputId": "294ff478-fe30-4f67-a8e0-5dd1c2a320e4"
      },
      "outputs": [
        {
          "output_type": "stream",
          "name": "stdout",
          "text": [
            "Es monótona\n"
          ]
        }
      ],
      "source": [
        "# 6- Escribir una función que dada una matriz de enteros, \n",
        "# determine si la matriz es monótona o no.\n",
        "# Una matriz es monótona si y solo si es monótona \n",
        "# en aumento o monótono en disminución \n",
        "\n",
        "A = [[1, 5], [4, 3], [9,2]]\n",
        "\n",
        "def Monotona(A):\n",
        "    if all(A[i] <= A[i+1] for i in range(len(A)-1)):\n",
        "        return 'Es monótona'\n",
        "    \n",
        "    elif all(A[i] >= A[i+1] for i in range(len(A)-1)):\n",
        "        return 'Es monótona'\n",
        "    \n",
        "    else:\n",
        "        return 'No es monótona'\n",
        "\n",
        "print(Monotona(A))"
      ]
    }
  ]
}